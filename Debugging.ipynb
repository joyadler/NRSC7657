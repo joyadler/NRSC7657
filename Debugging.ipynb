{
 "cells": [
  {
   "attachments": {},
   "cell_type": "markdown",
   "id": "d9f636a5-d283-4cf1-b978-2287025f4660",
   "metadata": {},
   "source": [
    "# Debugging\n",
    "### in a notebook\n",
    "##### mostly using `print()`\n",
    "10 July 2023<br>\n",
    "NRSC 7657<br>\n",
    "Daniel J Denman and John Thompson<br>\n",
    "University of Colorado Anschutz<br>\n",
    "<br>"
   ]
  },
  {
   "attachments": {},
   "cell_type": "markdown",
   "id": "8c2ab2b9-eba8-4a9d-aa56-eef82002cc9c",
   "metadata": {},
   "source": [
    "## A syntax error:"
   ]
  },
  {
   "cell_type": "code",
   "execution_count": null,
   "id": "b9702ffd",
   "metadata": {},
   "outputs": [],
   "source": []
  },
  {
   "cell_type": "code",
   "execution_count": 1,
   "id": "5113dbad-3563-408f-b6c4-2bf399b3c261",
   "metadata": {},
   "outputs": [
    {
     "name": "stdout",
     "output_type": "stream",
     "text": [
      "2\n"
     ]
    }
   ],
   "source": [
    "a=2\n",
    "print(a)\n",
    "c=4\n",
    "b=a+c"
   ]
  },
  {
   "attachments": {},
   "cell_type": "markdown",
   "id": "63ad0245-4b03-44f1-8e07-d7ff9bc81a8e",
   "metadata": {},
   "source": [
    "`c` was never defined, so this is a simple one to fix:"
   ]
  },
  {
   "cell_type": "code",
   "execution_count": null,
   "id": "1ee15147-f957-44cb-96ca-e79520705d20",
   "metadata": {},
   "outputs": [],
   "source": []
  },
  {
   "cell_type": "code",
   "execution_count": null,
   "id": "1bdbad1e-ffb9-4e3c-8850-e34bdb0399bc",
   "metadata": {},
   "outputs": [],
   "source": []
  },
  {
   "attachments": {},
   "cell_type": "markdown",
   "id": "74a26df1-9991-4f56-a985-80f9d07652a7",
   "metadata": {},
   "source": [
    "## Another syntax error:"
   ]
  },
  {
   "cell_type": "code",
   "execution_count": 31,
   "id": "6748ca38-f841-46c0-8e97-b1956346528f",
   "metadata": {},
   "outputs": [],
   "source": [
    "import numpy as np\n"
   ]
  },
  {
   "cell_type": "code",
   "execution_count": 32,
   "id": "c8a811e7-a39d-4ed5-84b1-435d8a8b87ff",
   "metadata": {},
   "outputs": [],
   "source": [
    "data = [1,2,3,6,9,18,36,72]\n",
    "diffs =np.diff(data)\n"
   ]
  },
  {
   "cell_type": "code",
   "execution_count": 33,
   "id": "c43f33b6-484e-407b-abf8-0d5d766e53e6",
   "metadata": {},
   "outputs": [
    {
     "data": {
      "text/plain": [
       "[1, 2, 3, 6, 9, 18, 36, 72]"
      ]
     },
     "execution_count": 33,
     "metadata": {},
     "output_type": "execute_result"
    }
   ],
   "source": [
    "data"
   ]
  },
  {
   "cell_type": "code",
   "execution_count": 34,
   "id": "7724dff4-5186-4b6e-aa42-47ef8b1287db",
   "metadata": {},
   "outputs": [
    {
     "data": {
      "text/plain": [
       "array([ 1,  1,  3,  3,  9, 18, 36])"
      ]
     },
     "execution_count": 34,
     "metadata": {},
     "output_type": "execute_result"
    }
   ],
   "source": [
    "diffs"
   ]
  },
  {
   "attachments": {},
   "cell_type": "markdown",
   "id": "72767e24-918a-47e9-ae98-e131926e3d8f",
   "metadata": {},
   "source": [
    "## A semantic error\n",
    "let's say we have these variables `a` and `b`"
   ]
  },
  {
   "cell_type": "code",
   "execution_count": 21,
   "id": "2253387a-96ac-4857-a034-f19dd71b42b9",
   "metadata": {},
   "outputs": [
    {
     "name": "stdout",
     "output_type": "stream",
     "text": [
      "2\n",
      "6\n"
     ]
    }
   ],
   "source": [
    "print(a)\n",
    "print(b)"
   ]
  },
  {
   "attachments": {},
   "cell_type": "markdown",
   "id": "f2d8fe5b-b026-4a56-9726-ee80679ae868",
   "metadata": {},
   "source": [
    "let's also say, for the sake of explanation, we have this function:"
   ]
  },
  {
   "cell_type": "code",
   "execution_count": 22,
   "id": "a9d2513d-d9b8-401a-bea2-403f97767779",
   "metadata": {},
   "outputs": [],
   "source": [
    "def plus(x,y):\n",
    "        return np.sqrt(x**2+y**2)\n",
    "    "
   ]
  },
  {
   "attachments": {},
   "cell_type": "markdown",
   "id": "c0c31da1-da37-499d-a8d0-9131cc112522",
   "metadata": {},
   "source": [
    "if we are chugging along, and we use `plus` to add `a` and `b` together, we might go on thinkng that we have `6` when we do that. "
   ]
  },
  {
   "cell_type": "code",
   "execution_count": 23,
   "id": "b8b5dea5-45a9-4749-9f4d-cd1a90ffe8eb",
   "metadata": {},
   "outputs": [],
   "source": [
    "arr = np.array([6,1])\n",
    "added = plus(a,b)\n",
    "zeroed = arr - added\n"
   ]
  },
  {
   "cell_type": "code",
   "execution_count": 24,
   "id": "4491c944-ad47-47ae-9826-f4ed85d3f71f",
   "metadata": {},
   "outputs": [
    {
     "name": "stdout",
     "output_type": "stream",
     "text": [
      "[-0.32455532 -5.32455532]\n"
     ]
    }
   ],
   "source": [
    "print(zeroed)\n"
   ]
  },
  {
   "cell_type": "code",
   "execution_count": null,
   "id": "937aa8ed",
   "metadata": {},
   "outputs": [],
   "source": []
  },
  {
   "attachments": {},
   "cell_type": "markdown",
   "id": "bd6ea62a-0093-4938-acc1-9a2ab3f8c07d",
   "metadata": {},
   "source": [
    "of course, we don't have `added = 6`. to figure out why our outputs aren't working, let's `print()`"
   ]
  },
  {
   "cell_type": "code",
   "execution_count": null,
   "id": "64aa706b-977f-4e26-9915-9784c819c5bc",
   "metadata": {},
   "outputs": [],
   "source": []
  },
  {
   "cell_type": "code",
   "execution_count": null,
   "id": "8a5ffe28-fcda-4950-8217-46c5c18041ba",
   "metadata": {},
   "outputs": [],
   "source": []
  },
  {
   "attachments": {},
   "cell_type": "markdown",
   "id": "124c2d5e-959c-4774-8c8a-52e1af1c0824",
   "metadata": {},
   "source": [
    "## one of my favorite parts about jupyter: \n",
    "the ephemeral `print()` without `print()`"
   ]
  },
  {
   "cell_type": "code",
   "execution_count": 4,
   "id": "f512a615-ef7c-474e-8582-436a1f453926",
   "metadata": {},
   "outputs": [],
   "source": [
    "import numpy as np"
   ]
  },
  {
   "cell_type": "code",
   "execution_count": 5,
   "id": "17a99372-33f2-4fc1-af8f-cb0c9b3736ca",
   "metadata": {},
   "outputs": [],
   "source": [
    "data = np.array([0,1,2,3,6,9,12,24,48,96])\n",
    "diffs = np.diff(data)\n",
    "s = np.sum(data)\n",
    "csum = np.cumsum(data)"
   ]
  },
  {
   "cell_type": "code",
   "execution_count": null,
   "id": "3642a71b-19f7-4ca3-8408-34b072b790d5",
   "metadata": {},
   "outputs": [],
   "source": []
  },
  {
   "cell_type": "code",
   "execution_count": null,
   "id": "7c64c290-e276-4b38-8460-fca27f710b32",
   "metadata": {},
   "outputs": [],
   "source": []
  },
  {
   "cell_type": "code",
   "execution_count": null,
   "id": "d16a1377-d922-43d8-b81d-70ddb0bc3715",
   "metadata": {},
   "outputs": [],
   "source": []
  },
  {
   "cell_type": "code",
   "execution_count": 6,
   "id": "3a1e9944-3f8d-4831-a7db-1edd1cda153a",
   "metadata": {
    "jupyter": {
     "source_hidden": true
    },
    "tags": []
   },
   "outputs": [
    {
     "data": {
      "text/plain": [
       "array([  1,   2,   4,   9,  15,  24,  45,  81, 153])"
      ]
     },
     "execution_count": 6,
     "metadata": {},
     "output_type": "execute_result"
    }
   ],
   "source": [
    "diffs + csum[:-1]"
   ]
  },
  {
   "attachments": {},
   "cell_type": "markdown",
   "id": "19855b55-44d9-494a-93d6-86b65dcb6847",
   "metadata": {},
   "source": [
    "i consider this a form of semantic debugging. in some cases this is true semantic debugging - why is the output not what i expected? in other cases, like what we did with `diff` it is like \"preventative debugging\" - making sure you understand the outputs and the state of your notebook (i.e., the state of your namespace) as you go. <br>\n",
    "<br>\n",
    "and then it can just..._be gone_. and you (or anyone else) don't have to see you how you've checked your work as you flowed through."
   ]
  },
  {
   "cell_type": "code",
   "execution_count": 28,
   "id": "f9bbba1b-c5e0-4602-aac0-80bf37797719",
   "metadata": {},
   "outputs": [],
   "source": [
    "import matplotlib.pyplot as plt"
   ]
  },
  {
   "cell_type": "code",
   "execution_count": null,
   "id": "2a649734-b97f-4dee-a238-55ea68477c46",
   "metadata": {},
   "outputs": [],
   "source": []
  },
  {
   "attachments": {},
   "cell_type": "markdown",
   "id": "1ed5b3bb-bf18-406e-b6f7-c422c50773ae",
   "metadata": {},
   "source": [
    "i consider this use of `matplotlib` a form of semantic debugging. \n",
    "<br>just make sure you put labels on things before you leave the narrative in your head and share your data with another person..."
   ]
  },
  {
   "attachments": {},
   "cell_type": "markdown",
   "id": "bfaee567",
   "metadata": {},
   "source": [
    "## VS Code debugging\n",
    "https://code.visualstudio.com/docs/python/jupyter-support-py"
   ]
  },
  {
   "attachments": {},
   "cell_type": "markdown",
   "id": "a8ae2dc6",
   "metadata": {},
   "source": [
    "first: run one line at a time. nice to have the debugger for this"
   ]
  },
  {
   "cell_type": "code",
   "execution_count": 7,
   "id": "d16c0109",
   "metadata": {},
   "outputs": [],
   "source": [
    "data = np.array([0,1,2,3,6,9,12,24,48,96])\n",
    "diffs = np.diff(data)\n",
    "s = np.sum(data)\n",
    "csum = np.cumsum(data)"
   ]
  },
  {
   "cell_type": "code",
   "execution_count": 8,
   "id": "9e20871e",
   "metadata": {},
   "outputs": [],
   "source": [
    "data2 = np.array([0,1,2,3,6,9,12,24,48,96])\n",
    "diffs2 = np.diff(data2)\n",
    "s2 = np.sum(data2)\n",
    "csum2 = np.cumsum(data2)"
   ]
  },
  {
   "attachments": {},
   "cell_type": "markdown",
   "id": "5a155641",
   "metadata": {},
   "source": [
    "## non-VS Code visual debugger for jupyter\n",
    "https://blog.jupyter.org/a-visual-debugger-for-jupyter-914e61716559"
   ]
  },
  {
   "cell_type": "code",
   "execution_count": 9,
   "id": "21b0df93",
   "metadata": {},
   "outputs": [
    {
     "name": "stdout",
     "output_type": "stream",
     "text": [
      "An error occurred.\n",
      "ValueError: Please install Node.js and npm before continuing installation. You may be able to install Node.js from your package manager, from conda, or directly from the Node.js website (https://nodejs.org).\n",
      "See the log file for details:  /var/folders/c8/qvhnz59x5szf3h7wnlzn_lgr0000gp/T/jupyterlab-debug-ge4dc1sv.log\n"
     ]
    }
   ],
   "source": [
    "!jupyter labextension install @jupyterlab/debugger"
   ]
  },
  {
   "cell_type": "code",
   "execution_count": 18,
   "id": "16160f91",
   "metadata": {},
   "outputs": [
    {
     "name": "stdout",
     "output_type": "stream",
     "text": [
      "Retrieving notices: ...working... done\n",
      "Collecting package metadata (current_repodata.json): done\n",
      "Solving environment: failed with initial frozen solve. Retrying with flexible solve.\n",
      "Solving environment: failed with repodata from current_repodata.json, will retry with next repodata source.\n",
      "Collecting package metadata (repodata.json): done\n",
      "Solving environment: done\n",
      "\n",
      "\n",
      "==> WARNING: A newer version of conda exists. <==\n",
      "  current version: 23.3.1\n",
      "  latest version: 23.5.0\n",
      "\n",
      "Please update conda by running\n",
      "\n",
      "    $ conda update -n base -c defaults conda\n",
      "\n",
      "Or to minimize the number of packages updated during conda update use\n",
      "\n",
      "     conda install conda=23.5.0\n",
      "\n",
      "\n",
      "\n",
      "## Package Plan ##\n",
      "\n",
      "  environment location: /Users/joyadler/anaconda3\n",
      "\n",
      "  added / updated specs:\n",
      "    - xeus-python\n",
      "\n",
      "\n",
      "The following packages will be downloaded:\n",
      "\n",
      "    package                    |            build\n",
      "    ---------------------------|-----------------\n",
      "    ca-certificates-2023.5.7   |       hf0a4a13_0         145 KB  conda-forge\n",
      "    certifi-2023.5.7           |     pyhd8ed1ab_0         149 KB  conda-forge\n",
      "    libsqlite-3.42.0           |       hb31c410_0         804 KB  conda-forge\n",
      "    libzlib-1.2.13             |       h53f4e23_5          47 KB  conda-forge\n",
      "    openssl-1.1.1u             |       h53f4e23_0         1.6 MB  conda-forge\n",
      "    python-3.10.8              |hf452327_0_cpython        10.1 MB  conda-forge\n",
      "    python_abi-3.10            |          3_cp310           6 KB  conda-forge\n",
      "    xeus-2.4.1                 |       h5f17a77_0         700 KB  conda-forge\n",
      "    xeus-python-0.14.3         |  py310he355803_1         1.2 MB  conda-forge\n",
      "    xeus-python-shell-0.5.0    |     pyhd8ed1ab_0           5 KB  conda-forge\n",
      "    xeus-python-shell-raw-0.5.0|     pyhd8ed1ab_0          11 KB  conda-forge\n",
      "    zlib-1.2.13                |       h53f4e23_5          78 KB  conda-forge\n",
      "    ------------------------------------------------------------\n",
      "                                           Total:        14.7 MB\n",
      "\n",
      "The following NEW packages will be INSTALLED:\n",
      "\n",
      "  libsqlite          conda-forge/osx-arm64::libsqlite-3.42.0-hb31c410_0 \n",
      "  libzlib            conda-forge/osx-arm64::libzlib-1.2.13-h53f4e23_5 \n",
      "  python_abi         conda-forge/osx-arm64::python_abi-3.10-3_cp310 \n",
      "  xeus               conda-forge/osx-arm64::xeus-2.4.1-h5f17a77_0 \n",
      "  xeus-python        conda-forge/osx-arm64::xeus-python-0.14.3-py310he355803_1 \n",
      "  xeus-python-shell  conda-forge/noarch::xeus-python-shell-0.5.0-pyhd8ed1ab_0 \n",
      "  xeus-python-shell~ conda-forge/noarch::xeus-python-shell-raw-0.5.0-pyhd8ed1ab_0 \n",
      "\n",
      "The following packages will be UPDATED:\n",
      "\n",
      "  ca-certificates    pkgs/main::ca-certificates-2023.01.10~ --> conda-forge::ca-certificates-2023.5.7-hf0a4a13_0 \n",
      "  certifi            pkgs/main/osx-arm64::certifi-2022.12.~ --> conda-forge/noarch::certifi-2023.5.7-pyhd8ed1ab_0 \n",
      "  openssl              pkgs/main::openssl-1.1.1t-h1a28f6b_0 --> conda-forge::openssl-1.1.1u-h53f4e23_0 \n",
      "  zlib                    pkgs/main::zlib-1.2.13-h5a0b063_0 --> conda-forge::zlib-1.2.13-h53f4e23_5 \n",
      "\n",
      "The following packages will be SUPERSEDED by a higher-priority channel:\n",
      "\n",
      "  python                pkgs/main::python-3.10.9-hc0d8a6c_1 --> conda-forge::python-3.10.8-hf452327_0_cpython \n",
      "\n",
      "\n",
      "\n",
      "Downloading and Extracting Packages\n",
      "ca-certificates-2023 | 145 KB    |                                       |   0% \n",
      "openssl-1.1.1u       | 1.6 MB    |                                       |   0% \u001b[A\n",
      "\n",
      "xeus-python-shell-0. | 5 KB      |                                       |   0% \u001b[A\u001b[A\n",
      "\n",
      "\n",
      "libzlib-1.2.13       | 47 KB     |                                       |   0% \u001b[A\u001b[A\u001b[A\n",
      "\n",
      "\n",
      "\n",
      "zlib-1.2.13          | 78 KB     |                                       |   0% \u001b[A\u001b[A\u001b[A\u001b[A\n",
      "\n",
      "\n",
      "\n",
      "\n",
      "xeus-2.4.1           | 700 KB    |                                       |   0% \u001b[A\u001b[A\u001b[A\u001b[A\u001b[A\n",
      "\n",
      "\n",
      "\n",
      "\n",
      "\n",
      "certifi-2023.5.7     | 149 KB    |                                       |   0% \u001b[A\u001b[A\u001b[A\u001b[A\u001b[A\u001b[A\n",
      "\n",
      "\n",
      "\n",
      "\n",
      "\n",
      "\n",
      "xeus-python-shell-ra | 11 KB     |                                       |   0% \u001b[A\u001b[A\u001b[A\u001b[A\u001b[A\u001b[A\u001b[A\n",
      "\n",
      "\n",
      "\n",
      "\n",
      "\n",
      "\n",
      "\n",
      "libsqlite-3.42.0     | 804 KB    |                                       |   0% \u001b[A\u001b[A\u001b[A\u001b[A\u001b[A\u001b[A\u001b[A\u001b[A\n",
      "\n",
      "\n",
      "\n",
      "\n",
      "\n",
      "\n",
      "\n",
      "\n",
      "xeus-python-0.14.3   | 1.2 MB    |                                       |   0% \u001b[A\u001b[A\u001b[A\u001b[A\u001b[A\u001b[A\u001b[A\u001b[A\u001b[A\n",
      "\n",
      "\n",
      "\n",
      "\n",
      "\n",
      "\n",
      "\n",
      "\n",
      "\n",
      "python_abi-3.10      | 6 KB      |                                       |   0% \u001b[A\u001b[A\u001b[A\u001b[A\u001b[A\u001b[A\u001b[A\u001b[A\u001b[A\u001b[A\n",
      "\n",
      "\n",
      "\n",
      "\n",
      "\n",
      "\n",
      "\n",
      "\n",
      "\n",
      "\n",
      "python-3.10.8        | 10.1 MB   |                                       |   0% \u001b[A\u001b[A\u001b[A\u001b[A\u001b[A\u001b[A\u001b[A\u001b[A\u001b[A\u001b[A\u001b[A\n",
      "openssl-1.1.1u       | 1.6 MB    | 3                                     |   1% \u001b[A\n",
      "\n",
      "\n",
      "\n",
      "ca-certificates-2023 | 145 KB    | ####                                  |  11% \u001b[A\u001b[A\u001b[A\u001b[A\n",
      "\n",
      "\n",
      "\n",
      "zlib-1.2.13          | 78 KB     | ##################################### | 100% \u001b[A\u001b[A\u001b[A\u001b[A\n",
      "\n",
      "xeus-python-shell-0. | 5 KB      | ##################################### | 100% \u001b[A\u001b[A\n",
      "\n",
      "\n",
      "libzlib-1.2.13       | 47 KB     | ############6                         |  34% \u001b[A\u001b[A\u001b[A\n",
      "\n",
      "ca-certificates-2023 | 145 KB    | ##################################### | 100% \u001b[A\u001b[A\n",
      "\n",
      "\n",
      "libzlib-1.2.13       | 47 KB     | ##################################### | 100% \u001b[A\u001b[A\u001b[A\n",
      "openssl-1.1.1u       | 1.6 MB    | #########################6            |  69% \u001b[A\n",
      "\n",
      "\n",
      "\n",
      "\n",
      "\n",
      "certifi-2023.5.7     | 149 KB    | ###9                                  |  11% \u001b[A\u001b[A\u001b[A\u001b[A\u001b[A\u001b[A\n",
      "\n",
      "\n",
      "\n",
      "\n",
      "xeus-2.4.1           | 700 KB    | 8                                     |   2% \u001b[A\u001b[A\u001b[A\u001b[A\u001b[A\n",
      "\n",
      "\n",
      "\n",
      "\n",
      "\n",
      "\n",
      "\n",
      "libsqlite-3.42.0     | 804 KB    | 7                                     |   2% \u001b[A\u001b[A\u001b[A\u001b[A\u001b[A\u001b[A\u001b[A\u001b[A\n",
      "\n",
      "\n",
      "\n",
      "\n",
      "\n",
      "\n",
      "xeus-python-shell-ra | 11 KB     | ##################################### | 100% \u001b[A\u001b[A\u001b[A\u001b[A\u001b[A\u001b[A\u001b[A\n",
      "\n",
      "\n",
      "\n",
      "\n",
      "\n",
      "certifi-2023.5.7     | 149 KB    | ##################################### | 100% \u001b[A\u001b[A\u001b[A\u001b[A\u001b[A\u001b[A\n",
      "\n",
      "\n",
      "\n",
      "\n",
      "\n",
      "\n",
      "xeus-python-shell-ra | 11 KB     | ##################################### | 100% \u001b[A\u001b[A\u001b[A\u001b[A\u001b[A\u001b[A\u001b[A\n",
      "\n",
      "\n",
      "\n",
      "\n",
      "xeus-2.4.1           | 700 KB    | ################################9     |  89% \u001b[A\u001b[A\u001b[A\u001b[A\u001b[A\n",
      "\n",
      "\n",
      "\n",
      "\n",
      "\n",
      "\n",
      "\n",
      "\n",
      "\n",
      "\n",
      "python-3.10.8        | 10.1 MB   |                                       |   0% \u001b[A\u001b[A\u001b[A\u001b[A\u001b[A\u001b[A\u001b[A\u001b[A\u001b[A\u001b[A\u001b[A\n",
      "\n",
      "\n",
      "\n",
      "\n",
      "\n",
      "\n",
      "\n",
      "\n",
      "\n",
      "python_abi-3.10      | 6 KB      | ##################################### | 100% \u001b[A\u001b[A\u001b[A\u001b[A\u001b[A\u001b[A\u001b[A\u001b[A\u001b[A\u001b[A\n",
      "\n",
      "\n",
      "\n",
      "\n",
      "\n",
      "\n",
      "\n",
      "libsqlite-3.42.0     | 804 KB    | ###########################2          |  74% \u001b[A\u001b[A\u001b[A\u001b[A\u001b[A\u001b[A\u001b[A\u001b[A\n",
      "\n",
      "\n",
      "\n",
      "\n",
      "\n",
      "\n",
      "\n",
      "\n",
      "\n",
      "python_abi-3.10      | 6 KB      | ##################################### | 100% \u001b[A\u001b[A\u001b[A\u001b[A\u001b[A\u001b[A\u001b[A\u001b[A\u001b[A\u001b[A\n",
      "openssl-1.1.1u       | 1.6 MB    | ##################################### | 100% \u001b[A\n",
      "\n",
      "\n",
      "\n",
      "\n",
      "\n",
      "\n",
      "\n",
      "libsqlite-3.42.0     | 804 KB    | ##################################### | 100% \u001b[A\u001b[A\u001b[A\u001b[A\u001b[A\u001b[A\u001b[A\u001b[A\n",
      "\n",
      "\n",
      "\n",
      "\n",
      "\n",
      "\n",
      "\n",
      "\n",
      "\n",
      "\n",
      "python-3.10.8        | 10.1 MB   | ###4                                  |   9% \u001b[A\u001b[A\u001b[A\u001b[A\u001b[A\u001b[A\u001b[A\u001b[A\u001b[A\u001b[A\u001b[A\n",
      "\n",
      "\n",
      "\n",
      "\n",
      "xeus-2.4.1           | 700 KB    | ##################################### | 100% \u001b[A\u001b[A\u001b[A\u001b[A\u001b[A\n",
      "\n",
      "\n",
      "\n",
      "\n",
      "\n",
      "\n",
      "\n",
      "\n",
      "xeus-python-0.14.3   | 1.2 MB    | 4                                     |   1% \u001b[A\u001b[A\u001b[A\u001b[A\u001b[A\u001b[A\u001b[A\u001b[A\u001b[A\n",
      "\n",
      "\n",
      "\n",
      "\n",
      "\n",
      "\n",
      "\n",
      "\n",
      "\n",
      "\n",
      "python-3.10.8        | 10.1 MB   | #######6                              |  21% \u001b[A\u001b[A\u001b[A\u001b[A\u001b[A\u001b[A\u001b[A\u001b[A\u001b[A\u001b[A\u001b[A\n",
      "\n",
      "\n",
      "\n",
      "\n",
      "\n",
      "\n",
      "\n",
      "\n",
      "xeus-python-0.14.3   | 1.2 MB    | ###################4                  |  53% \u001b[A\u001b[A\u001b[A\u001b[A\u001b[A\u001b[A\u001b[A\u001b[A\u001b[A\n",
      "\n",
      "\n",
      "\n",
      "\n",
      "\n",
      "\n",
      "\n",
      "\n",
      "\n",
      "\n",
      "python-3.10.8        | 10.1 MB   | ###########                           |  30% \u001b[A\u001b[A\u001b[A\u001b[A\u001b[A\u001b[A\u001b[A\u001b[A\u001b[A\u001b[A\u001b[A\n",
      "\n",
      "\n",
      "\n",
      "\n",
      "\n",
      "\n",
      "\n",
      "\n",
      "\n",
      "\n",
      "python-3.10.8        | 10.1 MB   | ################4                     |  45% \u001b[A\u001b[A\u001b[A\u001b[A\u001b[A\u001b[A\u001b[A\u001b[A\u001b[A\u001b[A\u001b[A\n",
      "\n",
      "\n",
      "\n",
      "\n",
      "\n",
      "\n",
      "\n",
      "\n",
      "\n",
      "\n",
      "python-3.10.8        | 10.1 MB   | ######################8               |  62% \u001b[A\u001b[A\u001b[A\u001b[A\u001b[A\u001b[A\u001b[A\u001b[A\u001b[A\u001b[A\u001b[A\n",
      "\n",
      "\n",
      "\n",
      "\n",
      "\n",
      "\n",
      "\n",
      "\n",
      "xeus-python-0.14.3   | 1.2 MB    | ##################################### | 100% \u001b[A\u001b[A\u001b[A\u001b[A\u001b[A\u001b[A\u001b[A\u001b[A\u001b[A\n",
      "\n",
      "\n",
      "\n",
      "\n",
      "\n",
      "\n",
      "\n",
      "\n",
      "xeus-python-0.14.3   | 1.2 MB    | ##################################### | 100% \u001b[A\u001b[A\u001b[A\u001b[A\u001b[A\u001b[A\u001b[A\u001b[A\u001b[A\n",
      "\n",
      "\n",
      "\n",
      "\n",
      "\n",
      "\n",
      "\n",
      "\n",
      "\n",
      "\n",
      "python-3.10.8        | 10.1 MB   | ##############################6       |  83% \u001b[A\u001b[A\u001b[A\u001b[A\u001b[A\u001b[A\u001b[A\u001b[A\u001b[A\u001b[A\u001b[A\n",
      "\n",
      "\n",
      "\n",
      "\n",
      "\n",
      "\n",
      "\n",
      "\n",
      "\n",
      "\n",
      "python-3.10.8        | 10.1 MB   | ##################################### | 100% \u001b[A\u001b[A\u001b[A\u001b[A\u001b[A\u001b[A\u001b[A\u001b[A\u001b[A\u001b[A\u001b[A\n",
      "\n",
      "\n",
      "\n",
      "\n",
      "\n",
      "\n",
      "\n",
      "\n",
      "\n",
      "\n",
      "                                                                                \u001b[A\u001b[A\u001b[A\u001b[A\u001b[A\u001b[A\u001b[A\u001b[A\u001b[A\u001b[A\u001b[A\n",
      "                                                                                \u001b[A\n",
      "\n",
      "                                                                                \u001b[A\u001b[A\n",
      "\n",
      "\n",
      "                                                                                \u001b[A\u001b[A\u001b[A\n",
      "\n",
      "\n",
      "\n",
      "                                                                                \u001b[A\u001b[A\u001b[A\u001b[A\n",
      "\n",
      "\n",
      "\n",
      "\n",
      "                                                                                \u001b[A\u001b[A\u001b[A\u001b[A\u001b[A\n",
      "\n",
      "\n",
      "\n",
      "\n",
      "\n",
      "                                                                                \u001b[A\u001b[A\u001b[A\u001b[A\u001b[A\u001b[A\n",
      "\n",
      "\n",
      "\n",
      "\n",
      "\n",
      "\n",
      "                                                                                \u001b[A\u001b[A\u001b[A\u001b[A\u001b[A\u001b[A\u001b[A\n",
      "\n",
      "\n",
      "\n",
      "\n",
      "\n",
      "\n",
      "\n",
      "                                                                                \u001b[A\u001b[A\u001b[A\u001b[A\u001b[A\u001b[A\u001b[A\u001b[A\n",
      "\n",
      "\n",
      "\n",
      "\n",
      "\n",
      "\n",
      "\n",
      "\n",
      "                                                                                \u001b[A\u001b[A\u001b[A\u001b[A\u001b[A\u001b[A\u001b[A\u001b[A\u001b[A\n",
      "\n",
      "\n",
      "\n",
      "\n",
      "\n",
      "\n",
      "\n",
      "\n",
      "\n",
      "                                                                                \u001b[A\u001b[A\u001b[A\u001b[A\u001b[A\u001b[A\u001b[A\u001b[A\u001b[A\u001b[A\n",
      "\n",
      "\n",
      "\n",
      "\n",
      "\n",
      "\n",
      "\n",
      "\n",
      "\n",
      "\n",
      "                                                                                \u001b[A\u001b[A\u001b[A\u001b[A\u001b[A\u001b[A\u001b[A\u001b[A\u001b[A\u001b[A\u001b[A\n",
      "Preparing transaction: done\n",
      "Verifying transaction: done\n",
      "Executing transaction: done\n"
     ]
    }
   ],
   "source": [
    "!conda install xeus-python -c conda-forge -y"
   ]
  },
  {
   "cell_type": "code",
   "execution_count": 10,
   "id": "a57aa68d",
   "metadata": {},
   "outputs": [],
   "source": [
    "def long_function(a,b):\n",
    "\n",
    "    a2 = a +2\n",
    "    c = a2 + b\n",
    "    arr = np.array([a,a2,b,c])\n",
    "    arr2 = np.ones(4)*3\n",
    "    m = arr * arr2\n",
    "    s = np.sum(m)\n",
    "    return s"
   ]
  },
  {
   "cell_type": "code",
   "execution_count": 11,
   "id": "3600c577",
   "metadata": {},
   "outputs": [
    {
     "data": {
      "text/plain": [
       "48.0"
      ]
     },
     "execution_count": 11,
     "metadata": {},
     "output_type": "execute_result"
    }
   ],
   "source": [
    "long_function(2,3)"
   ]
  },
  {
   "attachments": {},
   "cell_type": "markdown",
   "id": "af8975f1",
   "metadata": {},
   "source": [
    "## Writing your own `Exceptions` and `AssertionErrors`\n",
    "or, helping your future self"
   ]
  },
  {
   "cell_type": "code",
   "execution_count": 17,
   "id": "57506791-eb01-414d-9d6d-89c1f54b4266",
   "metadata": {},
   "outputs": [],
   "source": [
    "def ensure_six(test_input):\n",
    "    for i in test_input:\n",
    "        if i <7:\n",
    "            print(i)\n",
    "        else:\n",
    "            raise Exception('i should be greater than 6, The Value of i was '+str(i))\n",
    "                        \n",
    "    print('we made it to this line')\n"
   ]
  },
  {
   "cell_type": "code",
   "execution_count": 18,
   "id": "b0014b4c",
   "metadata": {},
   "outputs": [
    {
     "name": "stdout",
     "output_type": "stream",
     "text": [
      "1\n",
      "4\n",
      "3\n",
      "1\n",
      "3\n",
      "4\n",
      "5\n",
      "we made it to this line\n"
     ]
    }
   ],
   "source": [
    "ensure_six([1,4,3,1,3,4,5])"
   ]
  },
  {
   "cell_type": "code",
   "execution_count": 22,
   "id": "68fdefdb-2144-4395-9928-38ddb6c2e8f0",
   "metadata": {},
   "outputs": [
    {
     "name": "stdout",
     "output_type": "stream",
     "text": [
      "cleaning up, running no matter what\n",
      "we made it\n"
     ]
    }
   ],
   "source": [
    "try: \n",
    "    for i in test_input:\n",
    "        if i <7:\n",
    "            print(i)\n",
    "        else:\n",
    "            raise Exception('i should be greater than 6, The Value of i was '+str(i))\n",
    "except:\n",
    "    pass\n",
    "finally:\n",
    "    print('cleaning up, running no matter what')\n",
    "dan = 3\n",
    "phone = 3443533\n",
    "print('we made it')         \n"
   ]
  },
  {
   "cell_type": "code",
   "execution_count": null,
   "id": "3fe84dc3-0699-4c47-b5a3-b1df15525a31",
   "metadata": {},
   "outputs": [],
   "source": []
  }
 ],
 "metadata": {
  "kernelspec": {
   "display_name": "base",
   "language": "python",
   "name": "python3"
  },
  "language_info": {
   "codemirror_mode": {
    "name": "ipython",
    "version": 3
   },
   "file_extension": ".py",
   "mimetype": "text/x-python",
   "name": "python",
   "nbconvert_exporter": "python",
   "pygments_lexer": "ipython3",
   "version": "3.10.8"
  }
 },
 "nbformat": 4,
 "nbformat_minor": 5
}
